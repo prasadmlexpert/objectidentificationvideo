{
  "nbformat": 4,
  "nbformat_minor": 0,
  "metadata": {
    "colab": {
      "name": "yoloV5Validation.ipynb",
      "provenance": [],
      "collapsed_sections": [],
      "mount_file_id": "1IMVxjYH-8KJiTd84N4BEI0qCybxqzq9O",
      "authorship_tag": "ABX9TyOqB1DyS/ypEmDxHSFJr0Fz",
      "include_colab_link": true
    },
    "kernelspec": {
      "name": "python3",
      "display_name": "Python 3"
    },
    "language_info": {
      "name": "python"
    }
  },
  "cells": [
    {
      "cell_type": "markdown",
      "metadata": {
        "id": "view-in-github",
        "colab_type": "text"
      },
      "source": [
        "<a href=\"https://colab.research.google.com/github/prasadmlexpert/objectidentificationvideo/blob/main/yoloV5Validation.ipynb\" target=\"_parent\"><img src=\"https://colab.research.google.com/assets/colab-badge.svg\" alt=\"Open In Colab\"/></a>"
      ]
    },
    {
      "cell_type": "code",
      "execution_count": 1,
      "metadata": {
        "colab": {
          "base_uri": "https://localhost:8080/"
        },
        "id": "W8KArjt1Qm5e",
        "outputId": "3a7f9436-fd84-4173-f471-942863c1dbe7"
      },
      "outputs": [
        {
          "output_type": "stream",
          "name": "stdout",
          "text": [
            "Drive already mounted at /content/drive; to attempt to forcibly remount, call drive.mount(\"/content/drive\", force_remount=True).\n"
          ]
        }
      ],
      "source": [
        "from google.colab import drive\n",
        "drive.mount('/content/drive')"
      ]
    },
    {
      "cell_type": "code",
      "source": [
        "!git clone https://github.com/ultralytics/yolov5\n"
      ],
      "metadata": {
        "colab": {
          "base_uri": "https://localhost:8080/"
        },
        "id": "_gGjTCP4RCPJ",
        "outputId": "71fd0874-2e36-41be-a657-e22cd5893181"
      },
      "execution_count": 2,
      "outputs": [
        {
          "output_type": "stream",
          "name": "stdout",
          "text": [
            "Cloning into 'yolov5'...\n",
            "remote: Enumerating objects: 13188, done.\u001b[K\n",
            "remote: Counting objects: 100% (69/69), done.\u001b[K\n",
            "remote: Compressing objects: 100% (51/51), done.\u001b[K\n",
            "remote: Total 13188 (delta 36), reused 38 (delta 18), pack-reused 13119\u001b[K\n",
            "Receiving objects: 100% (13188/13188), 12.56 MiB | 14.52 MiB/s, done.\n",
            "Resolving deltas: 100% (9048/9048), done.\n"
          ]
        }
      ]
    },
    {
      "cell_type": "code",
      "source": [
        "!pip install wandb"
      ],
      "metadata": {
        "colab": {
          "base_uri": "https://localhost:8080/"
        },
        "id": "_0SBjaxFRJkt",
        "outputId": "e5dfb1fa-9964-4fe6-aaa7-b82c4244a795"
      },
      "execution_count": 3,
      "outputs": [
        {
          "output_type": "stream",
          "name": "stdout",
          "text": [
            "Looking in indexes: https://pypi.org/simple, https://us-python.pkg.dev/colab-wheels/public/simple/\n",
            "Collecting wandb\n",
            "  Downloading wandb-0.12.21-py2.py3-none-any.whl (1.8 MB)\n",
            "\u001b[K     |████████████████████████████████| 1.8 MB 5.2 MB/s \n",
            "\u001b[?25hCollecting setproctitle\n",
            "  Downloading setproctitle-1.3.0-cp37-cp37m-manylinux_2_5_x86_64.manylinux1_x86_64.manylinux_2_17_x86_64.manylinux2014_x86_64.whl (30 kB)\n",
            "Collecting shortuuid>=0.5.0\n",
            "  Downloading shortuuid-1.0.9-py3-none-any.whl (9.4 kB)\n",
            "Collecting docker-pycreds>=0.4.0\n",
            "  Downloading docker_pycreds-0.4.0-py2.py3-none-any.whl (9.0 kB)\n",
            "Requirement already satisfied: promise<3,>=2.0 in /usr/local/lib/python3.7/dist-packages (from wandb) (2.3)\n",
            "Requirement already satisfied: requests<3,>=2.0.0 in /usr/local/lib/python3.7/dist-packages (from wandb) (2.23.0)\n",
            "Collecting GitPython>=1.0.0\n",
            "  Downloading GitPython-3.1.27-py3-none-any.whl (181 kB)\n",
            "\u001b[K     |████████████████████████████████| 181 kB 29.7 MB/s \n",
            "\u001b[?25hRequirement already satisfied: PyYAML in /usr/local/lib/python3.7/dist-packages (from wandb) (3.13)\n",
            "Collecting pathtools\n",
            "  Downloading pathtools-0.1.2.tar.gz (11 kB)\n",
            "Collecting sentry-sdk>=1.0.0\n",
            "  Downloading sentry_sdk-1.9.0-py2.py3-none-any.whl (156 kB)\n",
            "\u001b[K     |████████████████████████████████| 156 kB 44.2 MB/s \n",
            "\u001b[?25hRequirement already satisfied: setuptools in /usr/local/lib/python3.7/dist-packages (from wandb) (57.4.0)\n",
            "Requirement already satisfied: protobuf<4.0dev,>=3.12.0 in /usr/local/lib/python3.7/dist-packages (from wandb) (3.17.3)\n",
            "Requirement already satisfied: six>=1.13.0 in /usr/local/lib/python3.7/dist-packages (from wandb) (1.15.0)\n",
            "Requirement already satisfied: psutil>=5.0.0 in /usr/local/lib/python3.7/dist-packages (from wandb) (5.4.8)\n",
            "Requirement already satisfied: Click!=8.0.0,>=7.0 in /usr/local/lib/python3.7/dist-packages (from wandb) (7.1.2)\n",
            "Requirement already satisfied: typing-extensions>=3.7.4.3 in /usr/local/lib/python3.7/dist-packages (from GitPython>=1.0.0->wandb) (4.1.1)\n",
            "Collecting gitdb<5,>=4.0.1\n",
            "  Downloading gitdb-4.0.9-py3-none-any.whl (63 kB)\n",
            "\u001b[K     |████████████████████████████████| 63 kB 1.4 MB/s \n",
            "\u001b[?25hCollecting smmap<6,>=3.0.1\n",
            "  Downloading smmap-5.0.0-py3-none-any.whl (24 kB)\n",
            "Requirement already satisfied: urllib3!=1.25.0,!=1.25.1,<1.26,>=1.21.1 in /usr/local/lib/python3.7/dist-packages (from requests<3,>=2.0.0->wandb) (1.24.3)\n",
            "Requirement already satisfied: idna<3,>=2.5 in /usr/local/lib/python3.7/dist-packages (from requests<3,>=2.0.0->wandb) (2.10)\n",
            "Requirement already satisfied: certifi>=2017.4.17 in /usr/local/lib/python3.7/dist-packages (from requests<3,>=2.0.0->wandb) (2022.6.15)\n",
            "Requirement already satisfied: chardet<4,>=3.0.2 in /usr/local/lib/python3.7/dist-packages (from requests<3,>=2.0.0->wandb) (3.0.4)\n",
            "Building wheels for collected packages: pathtools\n",
            "  Building wheel for pathtools (setup.py) ... \u001b[?25l\u001b[?25hdone\n",
            "  Created wheel for pathtools: filename=pathtools-0.1.2-py3-none-any.whl size=8806 sha256=9a9ba031fc9d9d92739d6dde78f9050d3f3d9f0c8f68933b7b8bbe6ad1e84dcb\n",
            "  Stored in directory: /root/.cache/pip/wheels/3e/31/09/fa59cef12cdcfecc627b3d24273699f390e71828921b2cbba2\n",
            "Successfully built pathtools\n",
            "Installing collected packages: smmap, gitdb, shortuuid, setproctitle, sentry-sdk, pathtools, GitPython, docker-pycreds, wandb\n",
            "Successfully installed GitPython-3.1.27 docker-pycreds-0.4.0 gitdb-4.0.9 pathtools-0.1.2 sentry-sdk-1.9.0 setproctitle-1.3.0 shortuuid-1.0.9 smmap-5.0.0 wandb-0.12.21\n"
          ]
        }
      ]
    },
    {
      "cell_type": "code",
      "source": [
        "%cd yolov5/"
      ],
      "metadata": {
        "colab": {
          "base_uri": "https://localhost:8080/"
        },
        "id": "dimyJlKBRcc-",
        "outputId": "16229945-597b-4a80-c521-526842a9b503"
      },
      "execution_count": 4,
      "outputs": [
        {
          "output_type": "stream",
          "name": "stdout",
          "text": [
            "/content/yolov5\n"
          ]
        }
      ]
    },
    {
      "cell_type": "code",
      "source": [
        "!cp /content/drive/.shortcut-targets-by-id/16kphvlmJsL1izzffpLfadthz0YrraYkW/ImageIdetificationProject/Project_work/data/yolov5xbdd.pt ./"
      ],
      "metadata": {
        "id": "sFEnrVMJRowf"
      },
      "execution_count": 5,
      "outputs": []
    },
    {
      "cell_type": "code",
      "source": [
        "!wget https://raw.githubusercontent.com/prasadmlexpert/objectidentificationvideo/main/objectidentification.yml -P /content/yolov5/data/"
      ],
      "metadata": {
        "colab": {
          "base_uri": "https://localhost:8080/"
        },
        "id": "UHTOyIOISHxo",
        "outputId": "a16be09f-49c3-4725-9a6c-1cb53e4fab97"
      },
      "execution_count": 6,
      "outputs": [
        {
          "output_type": "stream",
          "name": "stdout",
          "text": [
            "--2022-07-30 04:06:19--  https://raw.githubusercontent.com/prasadmlexpert/objectidentificationvideo/main/objectidentification.yml\n",
            "Resolving raw.githubusercontent.com (raw.githubusercontent.com)... 185.199.108.133, 185.199.109.133, 185.199.110.133, ...\n",
            "Connecting to raw.githubusercontent.com (raw.githubusercontent.com)|185.199.108.133|:443... connected.\n",
            "HTTP request sent, awaiting response... 200 OK\n",
            "Length: 284 [text/plain]\n",
            "Saving to: ‘/content/yolov5/data/objectidentification.yml’\n",
            "\n",
            "\robjectidentificatio   0%[                    ]       0  --.-KB/s               \robjectidentificatio 100%[===================>]     284  --.-KB/s    in 0s      \n",
            "\n",
            "2022-07-30 04:06:19 (4.86 MB/s) - ‘/content/yolov5/data/objectidentification.yml’ saved [284/284]\n",
            "\n"
          ]
        }
      ]
    },
    {
      "cell_type": "code",
      "source": [
        "!python val.py --weights yolov5xbdd.pt --data objectidentification.yml --img 640 --conf 0.001 --iou 0.65  # mAP"
      ],
      "metadata": {
        "colab": {
          "base_uri": "https://localhost:8080/"
        },
        "id": "HrCUVJZnRN-Z",
        "outputId": "25b40399-9f24-4214-f196-275291b13d2c"
      },
      "execution_count": 7,
      "outputs": [
        {
          "output_type": "stream",
          "name": "stdout",
          "text": [
            "\u001b[34m\u001b[1mval: \u001b[0mdata=/content/yolov5/data/objectidentification.yml, weights=['yolov5xbdd.pt'], batch_size=32, imgsz=640, conf_thres=0.001, iou_thres=0.65, task=val, device=, workers=8, single_cls=False, augment=False, verbose=False, save_txt=False, save_hybrid=False, save_conf=False, save_json=False, project=runs/val, name=exp, exist_ok=False, half=False, dnn=False\n",
            "\u001b[31m\u001b[1mrequirements:\u001b[0m PyYAML>=5.3.1 not found and is required by YOLOv5, attempting auto-update...\n",
            "Looking in indexes: https://pypi.org/simple, https://us-python.pkg.dev/colab-wheels/public/simple/\n",
            "Collecting PyYAML>=5.3.1\n",
            "  Downloading PyYAML-6.0-cp37-cp37m-manylinux_2_5_x86_64.manylinux1_x86_64.manylinux_2_12_x86_64.manylinux2010_x86_64.whl (596 kB)\n",
            "Installing collected packages: PyYAML\n",
            "  Attempting uninstall: PyYAML\n",
            "    Found existing installation: PyYAML 3.13\n",
            "    Uninstalling PyYAML-3.13:\n",
            "      Successfully uninstalled PyYAML-3.13\n",
            "Successfully installed PyYAML-6.0\n",
            "\n",
            "\u001b[31m\u001b[1mrequirements:\u001b[0m 1 package updated per /content/yolov5/requirements.txt\n",
            "\u001b[31m\u001b[1mrequirements:\u001b[0m ⚠️ \u001b[1mRestart runtime or rerun command for updates to take effect\u001b[0m\n",
            "\n",
            "YOLOv5 🚀 v6.1-329-g52d3a9a Python-3.7.13 torch-1.12.0+cu113 CPU\n",
            "\n",
            "Fusing layers... \n",
            "Model summary: 444 layers, 86260891 parameters, 0 gradients\n",
            "\n",
            "Dataset not found ⚠️, missing paths ['/content/images/val']\n",
            "Traceback (most recent call last):\n",
            "  File \"val.py\", line 398, in <module>\n",
            "    main(opt)\n",
            "  File \"val.py\", line 371, in main\n",
            "    run(**vars(opt))\n",
            "  File \"/usr/local/lib/python3.7/dist-packages/torch/autograd/grad_mode.py\", line 27, in decorate_context\n",
            "    return func(*args, **kwargs)\n",
            "  File \"val.py\", line 153, in run\n",
            "    data = check_dataset(data)  # check\n",
            "  File \"/content/yolov5/utils/general.py\", line 501, in check_dataset\n",
            "    raise Exception(emojis('Dataset not found ❌'))\n",
            "Exception: Dataset not found ❌\n"
          ]
        }
      ]
    },
    {
      "cell_type": "code",
      "source": [
        "!python val.py --help"
      ],
      "metadata": {
        "colab": {
          "base_uri": "https://localhost:8080/"
        },
        "id": "lScPbHo9Sz2v",
        "outputId": "35c54baf-9234-4143-a196-3c3e8fc37973"
      },
      "execution_count": 8,
      "outputs": [
        {
          "output_type": "stream",
          "name": "stdout",
          "text": [
            "usage: val.py [-h] [--data DATA] [--weights WEIGHTS [WEIGHTS ...]]\n",
            "              [--batch-size BATCH_SIZE] [--imgsz IMGSZ]\n",
            "              [--conf-thres CONF_THRES] [--iou-thres IOU_THRES] [--task TASK]\n",
            "              [--device DEVICE] [--workers WORKERS] [--single-cls] [--augment]\n",
            "              [--verbose] [--save-txt] [--save-hybrid] [--save-conf]\n",
            "              [--save-json] [--project PROJECT] [--name NAME] [--exist-ok]\n",
            "              [--half] [--dnn]\n",
            "\n",
            "optional arguments:\n",
            "  -h, --help            show this help message and exit\n",
            "  --data DATA           dataset.yaml path\n",
            "  --weights WEIGHTS [WEIGHTS ...]\n",
            "                        model.pt path(s)\n",
            "  --batch-size BATCH_SIZE\n",
            "                        batch size\n",
            "  --imgsz IMGSZ, --img IMGSZ, --img-size IMGSZ\n",
            "                        inference size (pixels)\n",
            "  --conf-thres CONF_THRES\n",
            "                        confidence threshold\n",
            "  --iou-thres IOU_THRES\n",
            "                        NMS IoU threshold\n",
            "  --task TASK           train, val, test, speed or study\n",
            "  --device DEVICE       cuda device, i.e. 0 or 0,1,2,3 or cpu\n",
            "  --workers WORKERS     max dataloader workers (per RANK in DDP mode)\n",
            "  --single-cls          treat as single-class dataset\n",
            "  --augment             augmented inference\n",
            "  --verbose             report mAP by class\n",
            "  --save-txt            save results to *.txt\n",
            "  --save-hybrid         save label+prediction hybrid results to *.txt\n",
            "  --save-conf           save confidences in --save-txt labels\n",
            "  --save-json           save a COCO-JSON results file\n",
            "  --project PROJECT     save to project/name\n",
            "  --name NAME           save to project/name\n",
            "  --exist-ok            existing project/name ok, do not increment\n",
            "  --half                use FP16 half-precision inference\n",
            "  --dnn                 use OpenCV DNN for ONNX inference\n"
          ]
        }
      ]
    },
    {
      "cell_type": "code",
      "source": [
        ""
      ],
      "metadata": {
        "id": "cJdvRHtmS5B5"
      },
      "execution_count": null,
      "outputs": []
    }
  ]
}