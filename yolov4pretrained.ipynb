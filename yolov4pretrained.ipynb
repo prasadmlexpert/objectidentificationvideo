{
  "nbformat": 4,
  "nbformat_minor": 0,
  "metadata": {
    "colab": {
      "name": "Untitled1.ipynb",
      "provenance": [],
      "include_colab_link": true
    },
    "kernelspec": {
      "name": "python3",
      "display_name": "Python 3"
    },
    "language_info": {
      "name": "python"
    }
  },
  "cells": [
    {
      "cell_type": "markdown",
      "metadata": {
        "id": "view-in-github",
        "colab_type": "text"
      },
      "source": [
        "<a href=\"https://colab.research.google.com/github/prasadmlexpert/objectidentificationvideo/blob/main/yolov4pretrained.ipynb\" target=\"_parent\"><img src=\"https://colab.research.google.com/assets/colab-badge.svg\" alt=\"Open In Colab\"/></a>"
      ]
    },
    {
      "cell_type": "code",
      "execution_count": null,
      "metadata": {
        "id": "4ALx2Duv6ZMa"
      },
      "outputs": [],
      "source": [
        "import numpy as  np\n",
        "import cv2"
      ]
    },
    {
      "cell_type": "code",
      "source": [
        "import os\n",
        "from google.colab import drive\n",
        "drive.mount('/content/drive')"
      ],
      "metadata": {
        "id": "rX8k71HU6aLV",
        "outputId": "4e33c71d-ca8e-46be-d32b-47d929c068be",
        "colab": {
          "base_uri": "https://localhost:8080/"
        }
      },
      "execution_count": 1,
      "outputs": [
        {
          "output_type": "stream",
          "name": "stdout",
          "text": [
            "Mounted at /content/drive\n",
            "ls: cannot access '/content/drive/ImageIdetificationProject': No such file or directory\n"
          ]
        }
      ]
    },
    {
      "cell_type": "code",
      "source": [
        "\n",
        "!ls \"/content/drive/MyDrive/ImageIdetificationProject\""
      ],
      "metadata": {
        "id": "Ari3B4co8251",
        "outputId": "47593080-947e-4ccb-bc91-a9d16dad74e2",
        "colab": {
          "base_uri": "https://localhost:8080/"
        }
      },
      "execution_count": 3,
      "outputs": [
        {
          "output_type": "stream",
          "name": "stdout",
          "text": [
            "'Project Plan'\t'Project work'\n"
          ]
        }
      ]
    },
    {
      "cell_type": "code",
      "source": [
        "!ls -l \"/content/drive/.short*\""
      ],
      "metadata": {
        "id": "iqypDqnR9Oz-",
        "outputId": "1f0e414e-9224-4856-e6c7-13f5b1c8078e",
        "colab": {
          "base_uri": "https://localhost:8080/"
        }
      },
      "execution_count": 9,
      "outputs": [
        {
          "output_type": "stream",
          "name": "stdout",
          "text": [
            "ls: cannot access '/content/drive/.short*': No such file or directory\n"
          ]
        }
      ]
    },
    {
      "cell_type": "code",
      "source": [
        "drive.mount('/content/gdrive')"
      ],
      "metadata": {
        "id": "yA4O4Vd9-KS9",
        "outputId": "11b68366-5322-43e7-d6de-9f9b03d2b7c3",
        "colab": {
          "base_uri": "https://localhost:8080/"
        }
      },
      "execution_count": 10,
      "outputs": [
        {
          "output_type": "stream",
          "name": "stdout",
          "text": [
            "Mounted at /content/gdrive\n"
          ]
        }
      ]
    },
    {
      "cell_type": "code",
      "source": [
        "!ls -l /content/gdrive/MyDrive"
      ],
      "metadata": {
        "id": "IQq20wgm-i6I",
        "outputId": "42d8a2e3-408d-4c2b-daf4-3fe6689667ac",
        "colab": {
          "base_uri": "https://localhost:8080/"
        }
      },
      "execution_count": 12,
      "outputs": [
        {
          "output_type": "stream",
          "name": "stdout",
          "text": [
            "ls: /content/gdrive/MyDrive/ImageIdetificationProject: No such file or directory\n",
            "total 2819\n",
            "-rw------- 1 root root     143 Nov  5  2021  B18_Titanic.gsheet\n",
            "drwx------ 2 root root    4096 Nov 28  2021 'Colab Notebooks'\n",
            "-rw------- 1 root root     258 Jan 29 10:08  Hackthon2.graph\n",
            "lrw------- 1 root root       0 Jul  2 17:25  ImageIdetificationProject -> '/content/gdrive/MyDrive/Colab Notebooks/ImageIdetificationProject'\n",
            "-rw------- 1 root root 1847695 Apr  9 09:50  model_combined.pt\n",
            "-rw------- 1 root root   27389 Nov 12  2021  Numpy.ipynb\n",
            "-rw------- 1 root root  866685 Jun  1 15:36  picture8378788428864730681.jpg\n",
            "-rw------- 1 root root     143 Feb 13 08:54  Pre-Hackathon_Alexa_Chatbot.gdoc\n",
            "-rw------- 1 root root   47483 Apr 16 03:54  PVPrasadGelliSeniorSoftwareEngiLetter.PDF\n",
            "-rw------- 1 root root   81784 Apr 16 03:53  PVPrasadGelliSeniorSoftwareEngineerAutosarIntegrationResume.PDF\n",
            "-rw------- 1 root root     360 Dec 29  2021  PythonDataAnalysis.ipynb\n",
            "-rw------- 1 root root    8480 Feb 19 06:04  restaurents.xlsx\n"
          ]
        }
      ]
    },
    {
      "cell_type": "code",
      "source": [
        ""
      ],
      "metadata": {
        "id": "6jOX6Fbm-oKa"
      },
      "execution_count": null,
      "outputs": []
    }
  ]
}