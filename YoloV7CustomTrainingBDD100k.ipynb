{
  "nbformat": 4,
  "nbformat_minor": 0,
  "metadata": {
    "colab": {
      "name": "YoloV5CustomTrainingBDD100k.ipynb",
      "provenance": [],
      "collapsed_sections": [],
      "machine_shape": "hm",
      "include_colab_link": true
    },
    "kernelspec": {
      "name": "python3",
      "display_name": "Python 3"
    },
    "language_info": {
      "name": "python"
    },
    "accelerator": "GPU",
    "gpuClass": "standard"
  },
  "cells": [
    {
      "cell_type": "markdown",
      "metadata": {
        "id": "view-in-github",
        "colab_type": "text"
      },
      "source": [
        "<a href=\"https://colab.research.google.com/github/prasadmlexpert/objectidentificationvideo/blob/main/YoloV7CustomTrainingBDD100k.ipynb\" target=\"_parent\"><img src=\"https://colab.research.google.com/assets/colab-badge.svg\" alt=\"Open In Colab\"/></a>"
      ]
    },
    {
      "cell_type": "markdown",
      "source": [
        "# Training BDD data set using Yolov7"
      ],
      "metadata": {
        "id": "Aa5LpdIOOMjK"
      }
    },
    {
      "cell_type": "markdown",
      "source": [
        "## Step 1 Setup YoloV7"
      ],
      "metadata": {
        "id": "u_xmg3PCPc9V"
      }
    },
    {
      "cell_type": "code",
      "source": [
        "#@title Click run `to download yolov7`.\n",
        "%%capture\n",
        "\n",
        "!git clone https://github.com/WongKinYiu/yolov7.git"
      ],
      "metadata": {
        "id": "KDWqkAq1l3qR"
      },
      "execution_count": 1,
      "outputs": []
    },
    {
      "cell_type": "code",
      "source": [
        "#@title Click `To install requirement`.\n",
        "%%capture\n",
        "\n",
        "!pip install -r yolov7/requirements.txt"
      ],
      "metadata": {
        "id": "kjHD_SACskpR"
      },
      "execution_count": 5,
      "outputs": []
    },
    {
      "cell_type": "code",
      "source": [
        "#@title Click 'To install dependencies' \n",
        "%%capture\n",
        "!apt update\n",
        "!apt install -y zip htop screen libgl1-mesa-glx\n",
        "!pip install seaborn thop"
      ],
      "metadata": {
        "id": "c3CU7RDRMnDP"
      },
      "execution_count": 8,
      "outputs": []
    },
    {
      "cell_type": "markdown",
      "source": [
        "\n",
        "## Step 2 Download BDD Data set"
      ],
      "metadata": {
        "id": "Jh-mc9l_Pf1t"
      }
    },
    {
      "cell_type": "code",
      "source": [
        "#@title Click `To download images`. { display-mode: \"form\" }\n",
        "!gdown 19eofB_tGB0xX-Qrt0zmvXiYj2bMPP9B1"
      ],
      "metadata": {
        "id": "AOGzpd912pR_",
        "outputId": "346b27f3-692b-4e6d-c046-c9116447d1f6",
        "colab": {
          "base_uri": "https://localhost:8080/"
        }
      },
      "execution_count": 9,
      "outputs": [
        {
          "output_type": "stream",
          "name": "stdout",
          "text": [
            "Downloading...\n",
            "From: https://drive.google.com/uc?id=19eofB_tGB0xX-Qrt0zmvXiYj2bMPP9B1\n",
            "To: /content/bdd100k_images_100k.zip\n",
            "100% 5.81G/5.81G [01:01<00:00, 94.4MB/s]\n"
          ]
        }
      ]
    },
    {
      "cell_type": "markdown",
      "source": [
        "### Step 2.A Arrange BDD data set in folders"
      ],
      "metadata": {
        "id": "OCJraBJoOeyz"
      }
    },
    {
      "cell_type": "code",
      "source": [
        "%%capture\n",
        "!unzip bdd100k_images_100k.zip"
      ],
      "metadata": {
        "id": "kJAISvramXTq"
      },
      "execution_count": 10,
      "outputs": []
    },
    {
      "cell_type": "code",
      "source": [
        "!rm -rf bdd100k_images_100k.zip "
      ],
      "metadata": {
        "id": "CdYyeYdeWX3I"
      },
      "execution_count": 11,
      "outputs": []
    },
    {
      "cell_type": "code",
      "source": [
        "!mv bdd100k_images_100k/images /content/"
      ],
      "metadata": {
        "id": "OYVNPXlQnnDh"
      },
      "execution_count": 12,
      "outputs": []
    },
    {
      "cell_type": "code",
      "source": [
        "!mv bdd100k_images_100k/labels /content/"
      ],
      "metadata": {
        "id": "2UXKAYjhnzce"
      },
      "execution_count": 13,
      "outputs": []
    },
    {
      "cell_type": "code",
      "source": [
        "!rm -rf bdd100k_images_100k"
      ],
      "metadata": {
        "id": "nRb5v0qLZZPV"
      },
      "execution_count": 14,
      "outputs": []
    },
    {
      "cell_type": "code",
      "source": [
        "%cd /content/yolov5/"
      ],
      "metadata": {
        "id": "-AxiSkd2bHdk",
        "outputId": "17b4c993-6a9f-4d0b-f1cf-9a92dc9d7d32",
        "colab": {
          "base_uri": "https://localhost:8080/"
        }
      },
      "execution_count": 15,
      "outputs": [
        {
          "output_type": "stream",
          "name": "stdout",
          "text": [
            "[Errno 2] No such file or directory: '/content/yolov5/'\n",
            "/content\n"
          ]
        }
      ]
    },
    {
      "cell_type": "markdown",
      "source": [
        "## Step 3 Download configuration yml"
      ],
      "metadata": {
        "id": "Qc68DTbvOsde"
      }
    },
    {
      "cell_type": "code",
      "source": [
        "#@title Click `To Download the training parameters`. { display-mode: \"form\" }\n",
        "%%capture\n",
        "!wget https://raw.githubusercontent.com/prasadmlexpert/objectidentificationvideo/main/yolov5reduced.yml -P /content/yolov7/data/"
      ],
      "metadata": {
        "id": "twWU7TNJbbiZ"
      },
      "execution_count": 18,
      "outputs": []
    },
    {
      "cell_type": "code",
      "source": [
        "!cat /content/yolov7/data/yolov5reduced.yml"
      ],
      "metadata": {
        "id": "U882UEQAb6wA",
        "outputId": "fbda74ff-6290-4a86-936e-a51e1cfb9d7a",
        "colab": {
          "base_uri": "https://localhost:8080/"
        }
      },
      "execution_count": 20,
      "outputs": [
        {
          "output_type": "stream",
          "name": "stdout",
          "text": [
            "train: ../images/train\r\n",
            "val: ../images/val\r\n",
            "test: ../images/test\r\n",
            "\r\n",
            "nc: 11\r\n",
            "names: ['bicycle', 'bus', 'car', 'motorcycle', 'person', 'rider', 'traffic light', 'traffic sign', 'trailer', 'train', 'truck']"
          ]
        }
      ]
    },
    {
      "cell_type": "markdown",
      "source": [
        "Clean up unwanted folders"
      ],
      "metadata": {
        "id": "srMLkiICPBNn"
      }
    },
    {
      "cell_type": "code",
      "source": [
        "!rm -rf /content/yolov7/runs/train/exp*"
      ],
      "metadata": {
        "id": "L5wYMQ8FDr-7"
      },
      "execution_count": 21,
      "outputs": []
    },
    {
      "cell_type": "markdown",
      "source": [
        "## Step 4 install wan db to save training information"
      ],
      "metadata": {
        "id": "ulAGJgFnTC08"
      }
    },
    {
      "cell_type": "code",
      "source": [
        "#@title Click `To install wandb to log traces`. { display-mode: \"form\" }\n",
        "%%capture\n",
        "!pip install wandb"
      ],
      "metadata": {
        "id": "QdAf0cPGxn0p"
      },
      "execution_count": null,
      "outputs": []
    },
    {
      "cell_type": "markdown",
      "source": [
        "##Step 5 Train \n",
        "Options:\n",
        "img - input image size to model(compressed image size)\n",
        "\n",
        "1. batch - batch size (training per batch)\n",
        "2. epoch - number of training\n",
        "3. data - configuration yml\n",
        "4. weights - weights to be used\n",
        "5. freeze(optional) - number of layers -1 to freeze in 24 layers"
      ],
      "metadata": {
        "id": "ESPD_z_3P0nn"
      }
    },
    {
      "cell_type": "markdown",
      "source": [
        "### Step 5.A Train with pre trained data set"
      ],
      "metadata": {
        "id": "EOTX8XvuRJ_9"
      }
    },
    {
      "cell_type": "markdown",
      "source": [
        "Ensure to configure wandb account"
      ],
      "metadata": {
        "id": "xMugaPsvTQju"
      }
    },
    {
      "cell_type": "code",
      "source": [
        "!python train.py --img 640 --batch 16 --epochs 1 --data yolov5reduced.yml --weights yolov5x.pt --freeze 24"
      ],
      "metadata": {
        "id": "XhDxbpvvgerq"
      },
      "execution_count": null,
      "outputs": []
    },
    {
      "cell_type": "code",
      "source": [
        "!ls -l /content/yolov5/runs/train/exp/weights"
      ],
      "metadata": {
        "id": "jERlqyjD9ZD-"
      },
      "execution_count": null,
      "outputs": []
    },
    {
      "cell_type": "markdown",
      "source": [
        "### Step 5.B copy trained weights(best and last)"
      ],
      "metadata": {
        "id": "84N59D03Q0x8"
      }
    },
    {
      "cell_type": "code",
      "source": [
        "!cp /content/yolov5/runs/train/exp/weights/* ./"
      ],
      "metadata": {
        "id": "UWg63gpG9ecG"
      },
      "execution_count": null,
      "outputs": []
    },
    {
      "cell_type": "markdown",
      "source": [
        "###Step 5.C cleanup"
      ],
      "metadata": {
        "id": "Rv70X5DGQ-ee"
      }
    },
    {
      "cell_type": "code",
      "source": [
        "!rm -rf /content/yolov5/runs/train/exp*"
      ],
      "metadata": {
        "id": "HxGu9p8895xT"
      },
      "execution_count": null,
      "outputs": []
    },
    {
      "cell_type": "markdown",
      "source": [
        "### Step 5.D continue training with re trained model"
      ],
      "metadata": {
        "id": "y8-r_F7DRUjm"
      }
    },
    {
      "cell_type": "code",
      "source": [
        "!python train.py --img 640 --batch 32 --epochs 1 --data yolov5reduced.yml --weights last.pt --freeze 24"
      ],
      "metadata": {
        "id": "ygQgoC9d9_bW"
      },
      "execution_count": null,
      "outputs": []
    },
    {
      "cell_type": "markdown",
      "source": [
        "If satisfied with model performace please continue. If not satisfied re train model from [Step 5.B] to [Step 5.D]"
      ],
      "metadata": {
        "id": "8eZWCLhFRmYi"
      }
    },
    {
      "cell_type": "markdown",
      "source": [
        "## Step 6 Download model to local PC"
      ],
      "metadata": {
        "id": "EdMqJJIiRf3z"
      }
    },
    {
      "cell_type": "code",
      "source": [
        "from google.colab import files\n",
        "files.download('/content/yolov5/runs/train/exp/weights/best.pt') \n",
        "files.download('/content/yolov5/runs/train/exp/weights/last.pt') "
      ],
      "metadata": {
        "id": "nNrpJKHN-L2i"
      },
      "execution_count": null,
      "outputs": []
    },
    {
      "cell_type": "markdown",
      "source": [
        "## Step 7 Save model to google drive"
      ],
      "metadata": {
        "id": "YYIDCAkBSGJz"
      }
    },
    {
      "cell_type": "code",
      "source": [
        "from google.colab import drive\n",
        "drive.mount('/content/drive')"
      ],
      "metadata": {
        "id": "Gar1jxgRLLd-"
      },
      "execution_count": null,
      "outputs": []
    },
    {
      "cell_type": "code",
      "source": [
        "!mkdir /content/drive/MyDrive/weights"
      ],
      "metadata": {
        "id": "fiNZMJ2zLmNx"
      },
      "execution_count": null,
      "outputs": []
    },
    {
      "cell_type": "code",
      "source": [
        "!cp /content/yolov5/runs/train/exp/weights/best.pt /content/drive/MyDrive/weights/"
      ],
      "metadata": {
        "id": "8QYANP0uLRMw"
      },
      "execution_count": null,
      "outputs": []
    },
    {
      "cell_type": "code",
      "source": [
        "!cp /content/yolov5/runs/train/exp/weights/last.pt /content/drive/MyDrive/weights/"
      ],
      "metadata": {
        "id": "NlyIkOb9MeKh"
      },
      "execution_count": null,
      "outputs": []
    }
  ]
}