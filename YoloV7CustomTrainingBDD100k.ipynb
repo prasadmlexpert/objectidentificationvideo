{
  "nbformat": 4,
  "nbformat_minor": 0,
  "metadata": {
    "colab": {
      "name": "YoloV5CustomTrainingBDD100k.ipynb",
      "provenance": [],
      "collapsed_sections": [],
      "machine_shape": "hm",
      "toc_visible": true,
      "include_colab_link": true
    },
    "kernelspec": {
      "name": "python3",
      "display_name": "Python 3"
    },
    "language_info": {
      "name": "python"
    },
    "accelerator": "GPU",
    "gpuClass": "standard"
  },
  "cells": [
    {
      "cell_type": "markdown",
      "metadata": {
        "id": "view-in-github",
        "colab_type": "text"
      },
      "source": [
        "<a href=\"https://colab.research.google.com/github/prasadmlexpert/objectidentificationvideo/blob/main/YoloV7CustomTrainingBDD100k.ipynb\" target=\"_parent\"><img src=\"https://colab.research.google.com/assets/colab-badge.svg\" alt=\"Open In Colab\"/></a>"
      ]
    },
    {
      "cell_type": "markdown",
      "source": [
        "# Training BDD data set using Yolov5"
      ],
      "metadata": {
        "id": "Aa5LpdIOOMjK"
      }
    },
    {
      "cell_type": "markdown",
      "source": [
        "## Step 1 Setup YoloV5"
      ],
      "metadata": {
        "id": "u_xmg3PCPc9V"
      }
    },
    {
      "cell_type": "code",
      "source": [
        "#@title Click run `to download yolov5`. { display-mode: \"form\" }\n",
        "%%capture\n",
        "\n",
        "!git clone https://github.com/ultralytics/yolov5"
      ],
      "metadata": {
        "id": "KDWqkAq1l3qR"
      },
      "execution_count": null,
      "outputs": []
    },
    {
      "cell_type": "code",
      "source": [
        "#@title Click `To install requirement`. { display-mode: \"form\" }\n",
        "%%capture\n",
        "\n",
        "pip install -r yolov5/requirements.txt"
      ],
      "metadata": {
        "id": "kjHD_SACskpR"
      },
      "execution_count": null,
      "outputs": []
    },
    {
      "cell_type": "markdown",
      "source": [
        "\n",
        "## Step 2 Download BDD Data set"
      ],
      "metadata": {
        "id": "Jh-mc9l_Pf1t"
      }
    },
    {
      "cell_type": "code",
      "source": [
        "#@title Click `To download images`. { display-mode: \"form\" }\n",
        "!gdown 19eofB_tGB0xX-Qrt0zmvXiYj2bMPP9B1"
      ],
      "metadata": {
        "id": "AOGzpd912pR_"
      },
      "execution_count": null,
      "outputs": []
    },
    {
      "cell_type": "markdown",
      "source": [
        "### Step 2.A Arrange BDD data set in folders"
      ],
      "metadata": {
        "id": "OCJraBJoOeyz"
      }
    },
    {
      "cell_type": "code",
      "source": [
        "%%capture\n",
        "!unzip bdd100k_images_100k.zip"
      ],
      "metadata": {
        "id": "kJAISvramXTq"
      },
      "execution_count": null,
      "outputs": []
    },
    {
      "cell_type": "code",
      "source": [
        "!rm -rf bdd100k_images_100k.zip "
      ],
      "metadata": {
        "id": "CdYyeYdeWX3I"
      },
      "execution_count": null,
      "outputs": []
    },
    {
      "cell_type": "code",
      "source": [
        "!mv bdd100k_images_100k/images /content/"
      ],
      "metadata": {
        "id": "OYVNPXlQnnDh"
      },
      "execution_count": null,
      "outputs": []
    },
    {
      "cell_type": "code",
      "source": [
        "!mv bdd100k_images_100k/labels /content/"
      ],
      "metadata": {
        "id": "2UXKAYjhnzce"
      },
      "execution_count": null,
      "outputs": []
    },
    {
      "cell_type": "code",
      "source": [
        "!rm -rf bdd100k_images_100k"
      ],
      "metadata": {
        "id": "nRb5v0qLZZPV"
      },
      "execution_count": null,
      "outputs": []
    },
    {
      "cell_type": "code",
      "source": [
        "%cd /content/yolov5/"
      ],
      "metadata": {
        "id": "-AxiSkd2bHdk"
      },
      "execution_count": null,
      "outputs": []
    },
    {
      "cell_type": "markdown",
      "source": [
        "## Step 3 Download configuration yml"
      ],
      "metadata": {
        "id": "Qc68DTbvOsde"
      }
    },
    {
      "cell_type": "code",
      "source": [
        "#@title Click `To Download the training parameters`. { display-mode: \"form\" }\n",
        "%%capture\n",
        "!wget https://raw.githubusercontent.com/prasadmlexpert/objectidentificationvideo/main/yolov5reduced.yml -P /content/yolov5/data/"
      ],
      "metadata": {
        "id": "twWU7TNJbbiZ"
      },
      "execution_count": null,
      "outputs": []
    },
    {
      "cell_type": "code",
      "source": [
        "!cat /content/yolov5/data/yolov5reduced.yml"
      ],
      "metadata": {
        "id": "U882UEQAb6wA"
      },
      "execution_count": null,
      "outputs": []
    },
    {
      "cell_type": "markdown",
      "source": [
        "Clean up unwanted folders"
      ],
      "metadata": {
        "id": "srMLkiICPBNn"
      }
    },
    {
      "cell_type": "code",
      "source": [
        "!rm -rf /content/yolov5/runs/train/exp*"
      ],
      "metadata": {
        "id": "L5wYMQ8FDr-7"
      },
      "execution_count": null,
      "outputs": []
    },
    {
      "cell_type": "markdown",
      "source": [
        "## Step 4 install wan db to save training information"
      ],
      "metadata": {
        "id": "ulAGJgFnTC08"
      }
    },
    {
      "cell_type": "code",
      "source": [
        "#@title Click `To install wandb to log traces`. { display-mode: \"form\" }\n",
        "%%capture\n",
        "!pip install wandb"
      ],
      "metadata": {
        "id": "QdAf0cPGxn0p"
      },
      "execution_count": null,
      "outputs": []
    },
    {
      "cell_type": "markdown",
      "source": [
        "##Step 5 Train \n",
        "Options:\n",
        "img - input image size to model(compressed image size)\n",
        "\n",
        "1. batch - batch size (training per batch)\n",
        "2. epoch - number of training\n",
        "3. data - configuration yml\n",
        "4. weights - weights to be used\n",
        "5. freeze(optional) - number of layers -1 to freeze in 24 layers"
      ],
      "metadata": {
        "id": "ESPD_z_3P0nn"
      }
    },
    {
      "cell_type": "markdown",
      "source": [
        "### Step 5.A Train with pre trained data set"
      ],
      "metadata": {
        "id": "EOTX8XvuRJ_9"
      }
    },
    {
      "cell_type": "markdown",
      "source": [
        "Ensure to configure wandb account"
      ],
      "metadata": {
        "id": "xMugaPsvTQju"
      }
    },
    {
      "cell_type": "code",
      "source": [
        "!python train.py --img 640 --batch 16 --epochs 1 --data yolov5reduced.yml --weights yolov5x.pt --freeze 24"
      ],
      "metadata": {
        "id": "XhDxbpvvgerq"
      },
      "execution_count": null,
      "outputs": []
    },
    {
      "cell_type": "code",
      "source": [
        "!ls -l /content/yolov5/runs/train/exp/weights"
      ],
      "metadata": {
        "id": "jERlqyjD9ZD-"
      },
      "execution_count": null,
      "outputs": []
    },
    {
      "cell_type": "markdown",
      "source": [
        "### Step 5.B copy trained weights(best and last)"
      ],
      "metadata": {
        "id": "84N59D03Q0x8"
      }
    },
    {
      "cell_type": "code",
      "source": [
        "!cp /content/yolov5/runs/train/exp/weights/* ./"
      ],
      "metadata": {
        "id": "UWg63gpG9ecG"
      },
      "execution_count": null,
      "outputs": []
    },
    {
      "cell_type": "markdown",
      "source": [
        "###Step 5.C cleanup"
      ],
      "metadata": {
        "id": "Rv70X5DGQ-ee"
      }
    },
    {
      "cell_type": "code",
      "source": [
        "!rm -rf /content/yolov5/runs/train/exp*"
      ],
      "metadata": {
        "id": "HxGu9p8895xT"
      },
      "execution_count": null,
      "outputs": []
    },
    {
      "cell_type": "markdown",
      "source": [
        "### Step 5.D continue training with re trained model"
      ],
      "metadata": {
        "id": "y8-r_F7DRUjm"
      }
    },
    {
      "cell_type": "code",
      "source": [
        "!python train.py --img 640 --batch 32 --epochs 1 --data yolov5reduced.yml --weights last.pt --freeze 24"
      ],
      "metadata": {
        "id": "ygQgoC9d9_bW"
      },
      "execution_count": null,
      "outputs": []
    },
    {
      "cell_type": "markdown",
      "source": [
        "If satisfied with model performace please continue. If not satisfied re train model from [Step 5.B] to [Step 5.D]"
      ],
      "metadata": {
        "id": "8eZWCLhFRmYi"
      }
    },
    {
      "cell_type": "markdown",
      "source": [
        "## Step 6 Download model to local PC"
      ],
      "metadata": {
        "id": "EdMqJJIiRf3z"
      }
    },
    {
      "cell_type": "code",
      "source": [
        "from google.colab import files\n",
        "files.download('/content/yolov5/runs/train/exp/weights/best.pt') \n",
        "files.download('/content/yolov5/runs/train/exp/weights/last.pt') "
      ],
      "metadata": {
        "id": "nNrpJKHN-L2i"
      },
      "execution_count": null,
      "outputs": []
    },
    {
      "cell_type": "markdown",
      "source": [
        "## Step 7 Save model to google drive"
      ],
      "metadata": {
        "id": "YYIDCAkBSGJz"
      }
    },
    {
      "cell_type": "code",
      "source": [
        "from google.colab import drive\n",
        "drive.mount('/content/drive')"
      ],
      "metadata": {
        "id": "Gar1jxgRLLd-"
      },
      "execution_count": null,
      "outputs": []
    },
    {
      "cell_type": "code",
      "source": [
        "!mkdir /content/drive/MyDrive/weights"
      ],
      "metadata": {
        "id": "fiNZMJ2zLmNx"
      },
      "execution_count": null,
      "outputs": []
    },
    {
      "cell_type": "code",
      "source": [
        "!cp /content/yolov5/runs/train/exp/weights/best.pt /content/drive/MyDrive/weights/"
      ],
      "metadata": {
        "id": "8QYANP0uLRMw"
      },
      "execution_count": null,
      "outputs": []
    },
    {
      "cell_type": "code",
      "source": [
        "!cp /content/yolov5/runs/train/exp/weights/last.pt /content/drive/MyDrive/weights/"
      ],
      "metadata": {
        "id": "NlyIkOb9MeKh"
      },
      "execution_count": null,
      "outputs": []
    }
  ]
}