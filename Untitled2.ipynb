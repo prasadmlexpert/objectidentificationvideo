{
  "nbformat": 4,
  "nbformat_minor": 0,
  "metadata": {
    "colab": {
      "name": "Untitled2.ipynb",
      "provenance": [],
      "collapsed_sections": [],
      "include_colab_link": true
    },
    "kernelspec": {
      "name": "python3",
      "display_name": "Python 3"
    },
    "language_info": {
      "name": "python"
    }
  },
  "cells": [
    {
      "cell_type": "markdown",
      "metadata": {
        "id": "view-in-github",
        "colab_type": "text"
      },
      "source": [
        "<a href=\"https://colab.research.google.com/github/prasadmlexpert/objectidentificationvideo/blob/main/Untitled2.ipynb\" target=\"_parent\"><img src=\"https://colab.research.google.com/assets/colab-badge.svg\" alt=\"Open In Colab\"/></a>"
      ]
    },
    {
      "cell_type": "code",
      "execution_count": null,
      "metadata": {
        "colab": {
          "base_uri": "https://localhost:8080/"
        },
        "id": "gUc2zCIuZG30",
        "outputId": "88853a6d-d97e-478c-c752-298ce8f3f363"
      },
      "outputs": [
        {
          "output_type": "stream",
          "name": "stdout",
          "text": [
            "hello AIML.\n"
          ]
        }
      ],
      "source": [
        "print(\"hello AIML.\")"
      ]
    },
    {
      "cell_type": "code",
      "source": [
        "print(\"save to next\")"
      ],
      "metadata": {
        "id": "-lY7CbLecIIo",
        "outputId": "95a4304b-067c-474d-a3e3-cac83a6bcbda",
        "colab": {
          "base_uri": "https://localhost:8080/"
        }
      },
      "execution_count": 1,
      "outputs": [
        {
          "output_type": "stream",
          "name": "stdout",
          "text": [
            "save to next\n"
          ]
        }
      ]
    },
    {
      "cell_type": "code",
      "source": [
        ""
      ],
      "metadata": {
        "id": "3Q-AhJCRcLfB"
      },
      "execution_count": null,
      "outputs": []
    }
  ]
}