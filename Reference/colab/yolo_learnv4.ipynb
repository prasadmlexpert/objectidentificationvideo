{
  "cells": [
    {
      "cell_type": "markdown",
      "metadata": {
        "id": "view-in-github",
        "colab_type": "text"
      },
      "source": [
        "<a href=\"https://colab.research.google.com/github/prasadmlexpert/objectidentificationvideo/blob/main/Reference/colab/yolo_learnv4.ipynb\" target=\"_parent\"><img src=\"https://colab.research.google.com/assets/colab-badge.svg\" alt=\"Open In Colab\"/></a>"
      ]
    },
    {
      "cell_type": "code",
      "execution_count": 1,
      "metadata": {
        "id": "_3_vT8vILW5x",
        "outputId": "67b1f048-fa03-45ea-e45f-764040833b13",
        "colab": {
          "base_uri": "https://localhost:8080/"
        }
      },
      "outputs": [
        {
          "output_type": "stream",
          "name": "stdout",
          "text": [
            "Looking in indexes: https://pypi.org/simple, https://us-python.pkg.dev/colab-wheels/public/simple/\n",
            "Collecting yolov4\n",
            "  Downloading yolov4-3.2.0.tar.gz (42 kB)\n",
            "\u001b[K     |████████████████████████████████| 42 kB 770 kB/s \n",
            "\u001b[?25h  Installing build dependencies ... \u001b[?25l\u001b[?25hdone\n",
            "  Getting requirements to build wheel ... \u001b[?25l\u001b[?25hdone\n",
            "    Preparing wheel metadata ... \u001b[?25l\u001b[?25hdone\n",
            "Requirement already satisfied: numpy>=1.18.0 in /usr/local/lib/python3.7/dist-packages (from yolov4) (1.21.6)\n",
            "Building wheels for collected packages: yolov4\n",
            "  Building wheel for yolov4 (PEP 517) ... \u001b[?25l\u001b[?25hdone\n",
            "  Created wheel for yolov4: filename=yolov4-3.2.0-cp37-cp37m-linux_x86_64.whl size=137494 sha256=fbf8738a70b086f6529fb795f63e1b96fccee2ddd91bb3b58df5984167e87614\n",
            "  Stored in directory: /root/.cache/pip/wheels/2f/b0/9a/cb8f2f279a59c0e8c874074df1333645b33f2f9c3cb58498de\n",
            "Successfully built yolov4\n",
            "Installing collected packages: yolov4\n",
            "Successfully installed yolov4-3.2.0\n"
          ]
        }
      ],
      "source": [
        "## https://github.com/AlexeyAB/darknet"
        "!pip install yolov4"
      ]
    },
    {
      "cell_type": "code",
      "execution_count": null,
      "metadata": {
        "id": "vm_aq14oLW51"
      },
      "outputs": [],
      "source": [
        ""
      ]
    }
  ],
  "metadata": {
    "kernelspec": {
      "display_name": "Python 3.10.5 64-bit",
      "language": "python",
      "name": "python3"
    },
    "language_info": {
      "codemirror_mode": {
        "name": "ipython",
        "version": 3
      },
      "file_extension": ".py",
      "mimetype": "text/x-python",
      "name": "python",
      "nbconvert_exporter": "python",
      "pygments_lexer": "ipython3",
      "version": "3.10.5"
    },
    "orig_nbformat": 4,
    "vscode": {
      "interpreter": {
        "hash": "052dff811f029f7dfeb076cd21f2f318e9e194428c4a0c6536b465a7ab546010"
      }
    },
    "colab": {
      "name": "yolo_learnv4.ipynb",
      "provenance": [],
      "include_colab_link": true
    }
  },
  "nbformat": 4,
  "nbformat_minor": 0
}
